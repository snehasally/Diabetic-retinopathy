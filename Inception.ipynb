{
 "cells": [
  {
   "cell_type": "code",
   "execution_count": 1,
   "id": "b9929de1",
   "metadata": {},
   "outputs": [],
   "source": [
    "DIR = 'F:/'\n",
    "TRAIN_DF_PATH = DIR + \"train.csv\"\n",
    "TEST_DF_PATH = DIR + 'test.csv'\n",
    "TRAIN_IMG_PATH = DIR + \"train_images/\"\n",
    "TEST_IMG_PATH = DIR + 'test_images/'"
   ]
  },
  {
   "cell_type": "code",
   "execution_count": 2,
   "id": "a0a75acd",
   "metadata": {},
   "outputs": [],
   "source": [
    "BASE_DIR = 'F:/'\n",
    "TRAIN_IMAGE_DIR = 'F:/train_images'\n",
    "TEST_IMAGE_DIR = 'F:/test_images'\n",
    "train_csv = 'F:/train.csv'\n",
    "test_csv = 'F:/test.csv'\n",
    "IMAGE_SIZE = 224\n",
    "BATCH_SIZE = 10"
   ]
  },
  {
   "cell_type": "code",
   "execution_count": 3,
   "id": "d33cc790",
   "metadata": {},
   "outputs": [],
   "source": [
    "import pandas as pd\n",
    "import numpy as np\n",
    "import matplotlib.pyplot as plt\n",
    "import cv2"
   ]
  },
  {
   "cell_type": "code",
   "execution_count": 4,
   "id": "99b80e7f",
   "metadata": {},
   "outputs": [
    {
     "data": {
      "text/html": [
       "<div>\n",
       "<style scoped>\n",
       "    .dataframe tbody tr th:only-of-type {\n",
       "        vertical-align: middle;\n",
       "    }\n",
       "\n",
       "    .dataframe tbody tr th {\n",
       "        vertical-align: top;\n",
       "    }\n",
       "\n",
       "    .dataframe thead th {\n",
       "        text-align: right;\n",
       "    }\n",
       "</style>\n",
       "<table border=\"1\" class=\"dataframe\">\n",
       "  <thead>\n",
       "    <tr style=\"text-align: right;\">\n",
       "      <th></th>\n",
       "      <th>id_code</th>\n",
       "      <th>diagnosis</th>\n",
       "    </tr>\n",
       "  </thead>\n",
       "  <tbody>\n",
       "    <tr>\n",
       "      <th>0</th>\n",
       "      <td>000c1434d8d7</td>\n",
       "      <td>2</td>\n",
       "    </tr>\n",
       "    <tr>\n",
       "      <th>1</th>\n",
       "      <td>001639a390f0</td>\n",
       "      <td>4</td>\n",
       "    </tr>\n",
       "    <tr>\n",
       "      <th>2</th>\n",
       "      <td>0024cdab0c1e</td>\n",
       "      <td>1</td>\n",
       "    </tr>\n",
       "    <tr>\n",
       "      <th>3</th>\n",
       "      <td>002c21358ce6</td>\n",
       "      <td>0</td>\n",
       "    </tr>\n",
       "    <tr>\n",
       "      <th>4</th>\n",
       "      <td>005b95c28852</td>\n",
       "      <td>0</td>\n",
       "    </tr>\n",
       "  </tbody>\n",
       "</table>\n",
       "</div>"
      ],
      "text/plain": [
       "        id_code  diagnosis\n",
       "0  000c1434d8d7          2\n",
       "1  001639a390f0          4\n",
       "2  0024cdab0c1e          1\n",
       "3  002c21358ce6          0\n",
       "4  005b95c28852          0"
      ]
     },
     "execution_count": 4,
     "metadata": {},
     "output_type": "execute_result"
    }
   ],
   "source": [
    "train_df = pd.read_csv(train_csv)\n",
    "train_df.head(5)"
   ]
  },
  {
   "cell_type": "code",
   "execution_count": 5,
   "id": "85507142",
   "metadata": {},
   "outputs": [
    {
     "data": {
      "text/html": [
       "<div>\n",
       "<style scoped>\n",
       "    .dataframe tbody tr th:only-of-type {\n",
       "        vertical-align: middle;\n",
       "    }\n",
       "\n",
       "    .dataframe tbody tr th {\n",
       "        vertical-align: top;\n",
       "    }\n",
       "\n",
       "    .dataframe thead th {\n",
       "        text-align: right;\n",
       "    }\n",
       "</style>\n",
       "<table border=\"1\" class=\"dataframe\">\n",
       "  <thead>\n",
       "    <tr style=\"text-align: right;\">\n",
       "      <th></th>\n",
       "      <th>id_code</th>\n",
       "    </tr>\n",
       "  </thead>\n",
       "  <tbody>\n",
       "    <tr>\n",
       "      <th>0</th>\n",
       "      <td>0005cfc8afb6</td>\n",
       "    </tr>\n",
       "    <tr>\n",
       "      <th>1</th>\n",
       "      <td>003f0afdcd15</td>\n",
       "    </tr>\n",
       "    <tr>\n",
       "      <th>2</th>\n",
       "      <td>006efc72b638</td>\n",
       "    </tr>\n",
       "    <tr>\n",
       "      <th>3</th>\n",
       "      <td>00836aaacf06</td>\n",
       "    </tr>\n",
       "    <tr>\n",
       "      <th>4</th>\n",
       "      <td>009245722fa4</td>\n",
       "    </tr>\n",
       "  </tbody>\n",
       "</table>\n",
       "</div>"
      ],
      "text/plain": [
       "        id_code\n",
       "0  0005cfc8afb6\n",
       "1  003f0afdcd15\n",
       "2  006efc72b638\n",
       "3  00836aaacf06\n",
       "4  009245722fa4"
      ]
     },
     "execution_count": 5,
     "metadata": {},
     "output_type": "execute_result"
    }
   ],
   "source": [
    "test_df = pd.read_csv(test_csv)\n",
    "test_df.head()"
   ]
  },
  {
   "cell_type": "code",
   "execution_count": 6,
   "id": "4322fb1e",
   "metadata": {},
   "outputs": [],
   "source": [
    "train_df['diagnosis'] = train_df['diagnosis'].astype('str')\n",
    "train_df['id_code'] = train_df['id_code'].astype(str)+'.png'\n",
    "test_df['id_code'] = test_df['id_code'].astype(str)+'.png'"
   ]
  },
  {
   "cell_type": "code",
   "execution_count": 7,
   "id": "35a1c4ed",
   "metadata": {},
   "outputs": [
    {
     "name": "stderr",
     "output_type": "stream",
     "text": [
      "Using TensorFlow backend.\n"
     ]
    }
   ],
   "source": [
    "from keras.preprocessing.image import ImageDataGenerator\n",
    "datagen = ImageDataGenerator(\n",
    "    rescale=1./255,\n",
    "    horizontal_flip=True,\n",
    "    vertical_flip=True,\n",
    "    zoom_range=0.2,\n",
    "    validation_split=0.2\n",
    ")\n",
    "test_datagen = ImageDataGenerator(rescale=1./255)"
   ]
  },
  {
   "cell_type": "code",
   "execution_count": 8,
   "id": "6d9c8fb5",
   "metadata": {},
   "outputs": [
    {
     "name": "stdout",
     "output_type": "stream",
     "text": [
      "Found 2930 validated image filenames belonging to 5 classes.\n"
     ]
    }
   ],
   "source": [
    "train_gen = datagen.flow_from_dataframe(\n",
    "    dataframe = train_df,\n",
    "    class_mode = 'categorical',\n",
    "    x_col = 'id_code',\n",
    "    y_col = 'diagnosis',\n",
    "    target_size = (IMAGE_SIZE,IMAGE_SIZE),\n",
    "    subset = 'training',\n",
    "    directory = TRAIN_IMAGE_DIR,\n",
    "    batch_size = BATCH_SIZE,\n",
    "    shuffle = False\n",
    ")\n"
   ]
  },
  {
   "cell_type": "code",
   "execution_count": 9,
   "id": "57f8140c",
   "metadata": {},
   "outputs": [
    {
     "name": "stdout",
     "output_type": "stream",
     "text": [
      "Found 732 validated image filenames belonging to 5 classes.\n"
     ]
    }
   ],
   "source": [
    "val_gen = datagen.flow_from_dataframe(\n",
    "    dataframe = train_df,\n",
    "    class_mode = 'categorical',\n",
    "    x_col = 'id_code',\n",
    "    y_col = 'diagnosis',\n",
    "    target_size = (IMAGE_SIZE,IMAGE_SIZE),\n",
    "    subset = 'validation',\n",
    "    directory = TRAIN_IMAGE_DIR,\n",
    "    batch_size = BATCH_SIZE,\n",
    "    shuffle = False\n",
    ")"
   ]
  },
  {
   "cell_type": "code",
   "execution_count": 10,
   "id": "5977f676",
   "metadata": {},
   "outputs": [
    {
     "name": "stdout",
     "output_type": "stream",
     "text": [
      "Found 1928 validated image filenames.\n"
     ]
    }
   ],
   "source": [
    "test_gen = test_datagen.flow_from_dataframe(\n",
    "    dataframe = test_df,\n",
    "    class_mode = None,\n",
    "    x_col = 'id_code',\n",
    "    target_size = (IMAGE_SIZE,IMAGE_SIZE),\n",
    "    directory = TEST_IMAGE_DIR,\n",
    "    batch_size = BATCH_SIZE,\n",
    "    shuffle = False\n",
    ")\n"
   ]
  },
  {
   "cell_type": "code",
   "execution_count": 11,
   "id": "e0124075",
   "metadata": {},
   "outputs": [
    {
     "name": "stdout",
     "output_type": "stream",
     "text": [
      "[[0. 0. 1. 0. 0.]\n",
      " [0. 0. 0. 0. 1.]\n",
      " [0. 1. 0. 0. 0.]\n",
      " ...\n",
      " [0. 0. 1. 0. 0.]\n",
      " [1. 0. 0. 0. 0.]\n",
      " [0. 0. 1. 0. 0.]]\n"
     ]
    }
   ],
   "source": [
    "from sklearn.preprocessing import OneHotEncoder\n",
    "onehot_encoder = OneHotEncoder(sparse=False)\n",
    "encoded_diagnosis = onehot_encoder.fit_transform(train_df[['diagnosis']])\n",
    "print(encoded_diagnosis)"
   ]
  },
  {
   "cell_type": "code",
   "execution_count": 12,
   "id": "d4e450a1",
   "metadata": {},
   "outputs": [],
   "source": [
    "\n",
    "from keras.models import Sequential\n",
    "from keras.layers import Dense\n",
    "from keras import layers\n",
    "from keras.layers import Dropout, GaussianNoise, GaussianDropout,GlobalAveragePooling2D\n",
    "from keras.layers import Flatten, BatchNormalization\n",
    "from keras.layers.convolutional import Conv2D, SeparableConv2D\n",
    "from keras.constraints import maxnorm\n",
    "from keras.layers.convolutional import MaxPooling2D\n",
    "from keras.utils import np_utils\n",
    "from keras import backend as K\n",
    "from keras import regularizers, optimizers\n",
    "from keras.models import load_model"
   ]
  },
  {
   "cell_type": "code",
   "execution_count": 13,
   "id": "b20d94ed",
   "metadata": {},
   "outputs": [
    {
     "name": "stdout",
     "output_type": "stream",
     "text": [
      "Model: \"sequential_1\"\n",
      "_________________________________________________________________\n",
      "Layer (type)                 Output Shape              Param #   \n",
      "=================================================================\n",
      "inception_v3 (Model)         (None, 5, 5, 2048)        21802784  \n",
      "_________________________________________________________________\n",
      "global_average_pooling2d_1 ( (None, 2048)              0         \n",
      "_________________________________________________________________\n",
      "dropout_1 (Dropout)          (None, 2048)              0         \n",
      "_________________________________________________________________\n",
      "dense_1 (Dense)              (None, 5)                 10245     \n",
      "=================================================================\n",
      "Total params: 21,813,029\n",
      "Trainable params: 21,778,597\n",
      "Non-trainable params: 34,432\n",
      "_________________________________________________________________\n"
     ]
    }
   ],
   "source": [
    "from keras.applications.inception_v3 import InceptionV3\n",
    "inet = InceptionV3(include_top = False, weights='imagenet', input_shape=(224,224,3))\n",
    "model = Sequential()\n",
    "model.add(inet)\n",
    "model.add(layers.GlobalAveragePooling2D())\n",
    "model.add(layers.Dropout(0.5))\n",
    "model.add(layers.Dense(5, activation='sigmoid'))\n",
    "model.compile(loss='binary_crossentropy', optimizer=optimizers.adam(lr=0.0001, amsgrad=True), metrics=['accuracy'])\n",
    "\n",
    "model.summary()"
   ]
  },
  {
   "cell_type": "code",
   "execution_count": 17,
   "id": "1fbe630f",
   "metadata": {},
   "outputs": [
    {
     "name": "stdout",
     "output_type": "stream",
     "text": [
      "Epoch 1/50\n",
      "29/29 [==============================] - 246s 8s/step - loss: 0.5299 - accuracy: 0.7269 - val_loss: 0.3002 - val_accuracy: 0.8171\n",
      "Epoch 2/50\n",
      "29/29 [==============================] - 235s 8s/step - loss: 0.3066 - accuracy: 0.8772 - val_loss: 0.5935 - val_accuracy: 0.8714\n",
      "Epoch 3/50\n",
      "29/29 [==============================] - 232s 8s/step - loss: 0.2714 - accuracy: 0.8903 - val_loss: 0.5531 - val_accuracy: 0.8943\n",
      "Epoch 4/50\n",
      "29/29 [==============================] - 236s 8s/step - loss: 0.2764 - accuracy: 0.8883 - val_loss: 0.3691 - val_accuracy: 0.9029\n",
      "Epoch 5/50\n",
      "29/29 [==============================] - 234s 8s/step - loss: 0.2514 - accuracy: 0.9007 - val_loss: 0.4929 - val_accuracy: 0.8886\n",
      "Epoch 6/50\n",
      "29/29 [==============================] - 247s 9s/step - loss: 0.2673 - accuracy: 0.8903 - val_loss: 0.1158 - val_accuracy: 0.8800\n",
      "Epoch 7/50\n",
      "29/29 [==============================] - 236s 8s/step - loss: 0.2517 - accuracy: 0.8952 - val_loss: 0.2663 - val_accuracy: 0.9029\n",
      "Epoch 8/50\n",
      "29/29 [==============================] - 235s 8s/step - loss: 0.2391 - accuracy: 0.8966 - val_loss: 0.2265 - val_accuracy: 0.8857\n",
      "Epoch 9/50\n",
      "29/29 [==============================] - 246s 8s/step - loss: 0.3037 - accuracy: 0.8834 - val_loss: 0.5573 - val_accuracy: 0.8486\n",
      "Epoch 10/50\n",
      "29/29 [==============================] - 228s 8s/step - loss: 0.2639 - accuracy: 0.8862 - val_loss: 0.2975 - val_accuracy: 0.9029\n",
      "Epoch 11/50\n",
      "29/29 [==============================] - 283s 10s/step - loss: 0.2493 - accuracy: 0.8952 - val_loss: 0.0994 - val_accuracy: 0.9226\n",
      "Epoch 12/50\n",
      "29/29 [==============================] - 244s 8s/step - loss: 0.2371 - accuracy: 0.8986 - val_loss: 0.1672 - val_accuracy: 0.8714\n",
      "Epoch 13/50\n",
      "29/29 [==============================] - 237s 8s/step - loss: 0.2167 - accuracy: 0.9034 - val_loss: 0.2338 - val_accuracy: 0.9257\n",
      "Epoch 14/50\n",
      "29/29 [==============================] - 233s 8s/step - loss: 0.2037 - accuracy: 0.9138 - val_loss: 0.4091 - val_accuracy: 0.9029\n",
      "Epoch 15/50\n",
      "29/29 [==============================] - 236s 8s/step - loss: 0.2582 - accuracy: 0.8903 - val_loss: 0.3408 - val_accuracy: 0.8886\n",
      "Epoch 16/50\n",
      "29/29 [==============================] - 233s 8s/step - loss: 0.2349 - accuracy: 0.8938 - val_loss: 0.3175 - val_accuracy: 0.8886\n",
      "Epoch 17/50\n",
      "29/29 [==============================] - 240s 8s/step - loss: 0.2103 - accuracy: 0.9131 - val_loss: 0.1694 - val_accuracy: 0.9429\n",
      "Epoch 18/50\n",
      "29/29 [==============================] - 232s 8s/step - loss: 0.2197 - accuracy: 0.9007 - val_loss: 0.2072 - val_accuracy: 0.9086\n",
      "Epoch 19/50\n",
      "29/29 [==============================] - 239s 8s/step - loss: 0.1931 - accuracy: 0.9186 - val_loss: 0.4690 - val_accuracy: 0.8429\n",
      "Epoch 20/50\n",
      "29/29 [==============================] - 230s 8s/step - loss: 0.1958 - accuracy: 0.9200 - val_loss: 0.1475 - val_accuracy: 0.8914\n",
      "Epoch 21/50\n",
      "29/29 [==============================] - 275s 9s/step - loss: 0.2109 - accuracy: 0.9138 - val_loss: 0.3739 - val_accuracy: 0.8943\n",
      "Epoch 22/50\n",
      "29/29 [==============================] - 344s 12s/step - loss: 0.2226 - accuracy: 0.9110 - val_loss: 0.2256 - val_accuracy: 0.9000\n",
      "Epoch 23/50\n",
      "29/29 [==============================] - 270s 9s/step - loss: 0.1963 - accuracy: 0.9193 - val_loss: 0.2194 - val_accuracy: 0.9429\n",
      "Epoch 24/50\n",
      "29/29 [==============================] - 272s 9s/step - loss: 0.2108 - accuracy: 0.9124 - val_loss: 0.1900 - val_accuracy: 0.8943\n",
      "Epoch 25/50\n",
      "29/29 [==============================] - 249s 9s/step - loss: 0.1833 - accuracy: 0.9228 - val_loss: 0.2062 - val_accuracy: 0.9114\n",
      "Epoch 26/50\n",
      "29/29 [==============================] - 243s 8s/step - loss: 0.1848 - accuracy: 0.9214 - val_loss: 0.1525 - val_accuracy: 0.9286\n",
      "Epoch 27/50\n",
      "29/29 [==============================] - 241s 8s/step - loss: 0.1882 - accuracy: 0.9200 - val_loss: 0.2082 - val_accuracy: 0.9057\n",
      "Epoch 28/50\n",
      "29/29 [==============================] - 242s 8s/step - loss: 0.1861 - accuracy: 0.9166 - val_loss: 0.3077 - val_accuracy: 0.9400\n",
      "Epoch 29/50\n",
      "29/29 [==============================] - 240s 8s/step - loss: 0.2045 - accuracy: 0.9124 - val_loss: 0.1547 - val_accuracy: 0.9114\n",
      "Epoch 30/50\n",
      "29/29 [==============================] - 237s 8s/step - loss: 0.1796 - accuracy: 0.9214 - val_loss: 0.1382 - val_accuracy: 0.9229\n",
      "Epoch 31/50\n",
      "29/29 [==============================] - 238s 8s/step - loss: 0.1691 - accuracy: 0.9324 - val_loss: 0.2004 - val_accuracy: 0.9171\n",
      "Epoch 32/50\n",
      "29/29 [==============================] - 240s 8s/step - loss: 0.1840 - accuracy: 0.9255 - val_loss: 0.2056 - val_accuracy: 0.8935\n",
      "Epoch 33/50\n",
      "29/29 [==============================] - 246s 8s/step - loss: 0.1793 - accuracy: 0.9200 - val_loss: 0.3022 - val_accuracy: 0.8800\n",
      "Epoch 34/50\n",
      "29/29 [==============================] - 239s 8s/step - loss: 0.1602 - accuracy: 0.9290 - val_loss: 0.1205 - val_accuracy: 0.9514\n",
      "Epoch 35/50\n",
      "29/29 [==============================] - 241s 8s/step - loss: 0.1830 - accuracy: 0.9303 - val_loss: 0.1146 - val_accuracy: 0.9171\n",
      "Epoch 36/50\n",
      "29/29 [==============================] - 248s 9s/step - loss: 0.1559 - accuracy: 0.9310 - val_loss: 0.2496 - val_accuracy: 0.8743\n",
      "Epoch 37/50\n",
      "29/29 [==============================] - 340s 12s/step - loss: 0.1817 - accuracy: 0.9193 - val_loss: 0.2686 - val_accuracy: 0.8886\n",
      "Epoch 38/50\n",
      "29/29 [==============================] - 365s 13s/step - loss: 0.1523 - accuracy: 0.9352 - val_loss: 0.1495 - val_accuracy: 0.9314\n",
      "Epoch 39/50\n",
      "29/29 [==============================] - 351s 12s/step - loss: 0.1894 - accuracy: 0.9200 - val_loss: 0.1854 - val_accuracy: 0.9029\n",
      "Epoch 40/50\n",
      "29/29 [==============================] - 311s 11s/step - loss: 0.2063 - accuracy: 0.9200 - val_loss: 0.1630 - val_accuracy: 0.9057\n",
      "Epoch 41/50\n",
      "29/29 [==============================] - 302s 10s/step - loss: 0.1585 - accuracy: 0.9331 - val_loss: 0.1982 - val_accuracy: 0.9114\n",
      "Epoch 42/50\n",
      "29/29 [==============================] - 324s 11s/step - loss: 0.1542 - accuracy: 0.9352 - val_loss: 0.1688 - val_accuracy: 0.9143\n",
      "Epoch 43/50\n",
      "29/29 [==============================] - 274s 9s/step - loss: 0.1685 - accuracy: 0.9338 - val_loss: 0.4756 - val_accuracy: 0.9065\n",
      "Epoch 44/50\n",
      "29/29 [==============================] - 270s 9s/step - loss: 0.1547 - accuracy: 0.9359 - val_loss: 0.1352 - val_accuracy: 0.9286\n",
      "Epoch 45/50\n",
      "29/29 [==============================] - 273s 9s/step - loss: 0.1361 - accuracy: 0.9455 - val_loss: 0.0865 - val_accuracy: 0.9400\n",
      "Epoch 46/50\n",
      "29/29 [==============================] - 277s 10s/step - loss: 0.1636 - accuracy: 0.9366 - val_loss: 0.2648 - val_accuracy: 0.9029\n",
      "Epoch 47/50\n",
      "29/29 [==============================] - 281s 10s/step - loss: 0.1660 - accuracy: 0.9214 - val_loss: 0.0927 - val_accuracy: 0.9229\n",
      "Epoch 48/50\n",
      "29/29 [==============================] - 315s 11s/step - loss: 0.1745 - accuracy: 0.9276 - val_loss: 0.0616 - val_accuracy: 0.9057\n",
      "Epoch 49/50\n",
      "29/29 [==============================] - 290s 10s/step - loss: 0.1650 - accuracy: 0.9283 - val_loss: 0.2394 - val_accuracy: 0.9371\n",
      "Epoch 50/50\n",
      "29/29 [==============================] - 281s 10s/step - loss: 0.1722 - accuracy: 0.9193 - val_loss: 0.2629 - val_accuracy: 0.8886\n"
     ]
    }
   ],
   "source": [
    "model.fit_generator(generator=train_gen,              \n",
    "                                    steps_per_epoch=len(train_gen)//BATCH_SIZE,\n",
    "                                    validation_data=val_gen,                    \n",
    "                                    validation_steps=len(val_gen)//BATCH_SIZE,\n",
    "                                    epochs=50,\n",
    "                                    verbose=1)\n",
    "\n",
    "model.save('Inception.h5')"
   ]
  },
  {
   "cell_type": "code",
   "execution_count": 18,
   "id": "40b0f14a",
   "metadata": {},
   "outputs": [
    {
     "name": "stdout",
     "output_type": "stream",
     "text": [
      "193/193 [==============================] - 502s 3s/step\n"
     ]
    }
   ],
   "source": [
    "y_test = model.predict_generator(\n",
    "    test_gen,\n",
    "    steps=len(test_gen),\n",
    "    verbose=1\n",
    ")"
   ]
  },
  {
   "cell_type": "code",
   "execution_count": 28,
   "id": "28ed4464",
   "metadata": {},
   "outputs": [],
   "source": [
    "accuracy, val_accuracy =model.history.history['accuracy'], model.history.history['val_accuracy']\n",
    "loss, val_loss = model.history.history['loss'], model.history.history['val_loss']\n",
    "epochs = range(len(accuracy))\n",
    "import matplotlib.pyplot as plt"
   ]
  },
  {
   "cell_type": "code",
   "execution_count": 30,
   "id": "f9c2b803",
   "metadata": {},
   "outputs": [
    {
     "data": {
      "image/png": "[encoded data removed]",
      "text/plain": [
       "<Figure size 432x288 with 1 Axes>"
      ]
     },
     "metadata": {
      "needs_background": "light"
     },
     "output_type": "display_data"
    }
   ],
   "source": [
    "plt.plot(epochs, accuracy, label='Training accuracy')\n",
    "plt.plot(epochs, val_accuracy, label='Validation accuracy')\n",
    "plt.legend()\n",
    "plt.title('Accuracy Curve')\n",
    "plt.xlabel('Epochs')\n",
    "plt.ylabel('Accuracy')\n",
    "plt.show()"
   ]
  },
  {
   "cell_type": "code",
   "execution_count": 31,
   "id": "6e9155bc",
   "metadata": {},
   "outputs": [
    {
     "data": {
      "image/png": "[encoded data removed]",
      "text/plain": [
       "<Figure size 432x288 with 1 Axes>"
      ]
     },
     "metadata": {
      "needs_background": "light"
     },
     "output_type": "display_data"
    }
   ],
   "source": [
    "plt.plot(epochs, loss, label='Training loss')\n",
    "plt.plot(epochs, val_loss, label='Validation loss')\n",
    "plt.legend()\n",
    "plt.title('Loss Curve')\n",
    "plt.xlabel('Epochs')\n",
    "plt.ylabel('Loss')\n",
    "plt.show()"
   ]
  },
  {
   "cell_type": "code",
   "execution_count": null,
   "id": "79fca41b",
   "metadata": {},
   "outputs": [],
   "source": []
  }
 ],
 "metadata": {
  "kernelspec": {
   "display_name": "Python 3 (ipykernel)",
   "language": "python",
   "name": "python3"
  },
  "language_info": {
   "codemirror_mode": {
    "name": "ipython",
    "version": 3
   },
   "file_extension": ".py",
   "mimetype": "text/x-python",
   "name": "python",
   "nbconvert_exporter": "python",
   "pygments_lexer": "ipython3",
   "version": "3.8.16"
  }
 },
 "nbformat": 4,
 "nbformat_minor": 5
}
