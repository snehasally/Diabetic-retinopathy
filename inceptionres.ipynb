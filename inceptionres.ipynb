{
 "cells": [
  {
   "cell_type": "code",
   "execution_count": 1,
   "id": "8808d575",
   "metadata": {},
   "outputs": [],
   "source": [
    "DIR = 'F:/'\n",
    "TRAIN_DF_PATH = DIR + \"train.csv\"\n",
    "TEST_DF_PATH = DIR + 'test.csv'\n",
    "TRAIN_IMG_PATH = DIR + \"train_images/\"\n",
    "TEST_IMG_PATH = DIR + 'test_images/'\n",
    "BASE_DIR = 'F:/'\n",
    "TRAIN_IMAGE_DIR = 'F:/train_images'\n",
    "TEST_IMAGE_DIR = 'F:/test_images'\n",
    "train_csv = 'F:/train.csv'\n",
    "test_csv = 'F:/test.csv'\n",
    "IMAGE_SIZE = 224\n",
    "BATCH_SIZE = 10"
   ]
  },
  {
   "cell_type": "code",
   "execution_count": 2,
   "id": "ab68cd39",
   "metadata": {},
   "outputs": [],
   "source": [
    "import numpy as np\n",
    "import pandas as pd\n",
    "import json\n",
    "import math\n",
    "import os"
   ]
  },
  {
   "cell_type": "code",
   "execution_count": 3,
   "id": "52a44597",
   "metadata": {},
   "outputs": [
    {
     "data": {
      "text/html": [
       "<div>\n",
       "<style scoped>\n",
       "    .dataframe tbody tr th:only-of-type {\n",
       "        vertical-align: middle;\n",
       "    }\n",
       "\n",
       "    .dataframe tbody tr th {\n",
       "        vertical-align: top;\n",
       "    }\n",
       "\n",
       "    .dataframe thead th {\n",
       "        text-align: right;\n",
       "    }\n",
       "</style>\n",
       "<table border=\"1\" class=\"dataframe\">\n",
       "  <thead>\n",
       "    <tr style=\"text-align: right;\">\n",
       "      <th></th>\n",
       "      <th>id_code</th>\n",
       "      <th>diagnosis</th>\n",
       "    </tr>\n",
       "  </thead>\n",
       "  <tbody>\n",
       "    <tr>\n",
       "      <th>0</th>\n",
       "      <td>000c1434d8d7</td>\n",
       "      <td>2</td>\n",
       "    </tr>\n",
       "    <tr>\n",
       "      <th>1</th>\n",
       "      <td>001639a390f0</td>\n",
       "      <td>4</td>\n",
       "    </tr>\n",
       "    <tr>\n",
       "      <th>2</th>\n",
       "      <td>0024cdab0c1e</td>\n",
       "      <td>1</td>\n",
       "    </tr>\n",
       "    <tr>\n",
       "      <th>3</th>\n",
       "      <td>002c21358ce6</td>\n",
       "      <td>0</td>\n",
       "    </tr>\n",
       "    <tr>\n",
       "      <th>4</th>\n",
       "      <td>005b95c28852</td>\n",
       "      <td>0</td>\n",
       "    </tr>\n",
       "    <tr>\n",
       "      <th>5</th>\n",
       "      <td>0083ee8054ee</td>\n",
       "      <td>4</td>\n",
       "    </tr>\n",
       "    <tr>\n",
       "      <th>6</th>\n",
       "      <td>0097f532ac9f</td>\n",
       "      <td>0</td>\n",
       "    </tr>\n",
       "    <tr>\n",
       "      <th>7</th>\n",
       "      <td>00a8624548a9</td>\n",
       "      <td>2</td>\n",
       "    </tr>\n",
       "    <tr>\n",
       "      <th>8</th>\n",
       "      <td>00b74780d31d</td>\n",
       "      <td>2</td>\n",
       "    </tr>\n",
       "    <tr>\n",
       "      <th>9</th>\n",
       "      <td>00cb6555d108</td>\n",
       "      <td>1</td>\n",
       "    </tr>\n",
       "  </tbody>\n",
       "</table>\n",
       "</div>"
      ],
      "text/plain": [
       "        id_code  diagnosis\n",
       "0  000c1434d8d7          2\n",
       "1  001639a390f0          4\n",
       "2  0024cdab0c1e          1\n",
       "3  002c21358ce6          0\n",
       "4  005b95c28852          0\n",
       "5  0083ee8054ee          4\n",
       "6  0097f532ac9f          0\n",
       "7  00a8624548a9          2\n",
       "8  00b74780d31d          2\n",
       "9  00cb6555d108          1"
      ]
     },
     "execution_count": 3,
     "metadata": {},
     "output_type": "execute_result"
    }
   ],
   "source": [
    "train_df = pd.read_csv(TRAIN_DF_PATH)\n",
    "train_df.head(10)"
   ]
  },
  {
   "cell_type": "code",
   "execution_count": 4,
   "id": "fc1575cf",
   "metadata": {},
   "outputs": [],
   "source": [
    "train_df['diagnosis'] = train_df['diagnosis'].astype('str')\n",
    "train_df['id_code'] = train_df['id_code'].astype(str)+'.png'"
   ]
  },
  {
   "cell_type": "code",
   "execution_count": 5,
   "id": "67a95bff",
   "metadata": {},
   "outputs": [
    {
     "name": "stdout",
     "output_type": "stream",
     "text": [
      "[[0. 0. 1. 0. 0.]\n",
      " [0. 0. 0. 0. 1.]\n",
      " [0. 1. 0. 0. 0.]\n",
      " ...\n",
      " [0. 0. 1. 0. 0.]\n",
      " [1. 0. 0. 0. 0.]\n",
      " [0. 0. 1. 0. 0.]]\n"
     ]
    }
   ],
   "source": [
    "from sklearn.preprocessing import OneHotEncoder\n",
    "onehot_encoder = OneHotEncoder(sparse=False)\n",
    "encoded_diagnosis = onehot_encoder.fit_transform(train_df[['diagnosis']])\n",
    "print(encoded_diagnosis)"
   ]
  },
  {
   "cell_type": "code",
   "execution_count": 6,
   "id": "e7a9f418",
   "metadata": {},
   "outputs": [
    {
     "name": "stdout",
     "output_type": "stream",
     "text": [
      "(3662, 5)\n",
      "<built-in method astype of numpy.ndarray object at 0x00000210B2512EE0>\n"
     ]
    }
   ],
   "source": [
    "print(encoded_diagnosis.shape)\n",
    "print(encoded_diagnosis.astype)"
   ]
  },
  {
   "cell_type": "code",
   "execution_count": 7,
   "id": "69d275eb",
   "metadata": {},
   "outputs": [
    {
     "name": "stderr",
     "output_type": "stream",
     "text": [
      "Using TensorFlow backend.\n"
     ]
    }
   ],
   "source": [
    "from keras.preprocessing.image import ImageDataGenerator\n",
    "datagen = ImageDataGenerator(\n",
    "    rescale=1./255,\n",
    "    horizontal_flip=True,\n",
    "    vertical_flip=True,\n",
    "    zoom_range=0.2,\n",
    "    validation_split=0.2\n",
    ")"
   ]
  },
  {
   "cell_type": "code",
   "execution_count": 8,
   "id": "d0101607",
   "metadata": {},
   "outputs": [
    {
     "name": "stdout",
     "output_type": "stream",
     "text": [
      "Found 2930 validated image filenames belonging to 5 classes.\n",
      "Found 732 validated image filenames belonging to 5 classes.\n"
     ]
    }
   ],
   "source": [
    "train_gen = datagen.flow_from_dataframe(\n",
    "    dataframe = train_df,\n",
    "    class_mode = 'categorical',\n",
    "    x_col = 'id_code',\n",
    "    y_col = 'diagnosis',\n",
    "    target_size = (IMAGE_SIZE,IMAGE_SIZE),\n",
    "    subset = 'training',\n",
    "    directory = TRAIN_IMAGE_DIR,\n",
    "    batch_size = BATCH_SIZE,\n",
    "    shuffle = True\n",
    ")\n",
    "test_gen = datagen.flow_from_dataframe(\n",
    "    dataframe = train_df,\n",
    "    class_mode = 'categorical',\n",
    "    x_col = 'id_code',\n",
    "    y_col = 'diagnosis',\n",
    "    target_size = (IMAGE_SIZE,IMAGE_SIZE),\n",
    "    subset = 'validation',\n",
    "    directory = TRAIN_IMAGE_DIR,\n",
    "    batch_size = BATCH_SIZE,\n",
    "    shuffle = True\n",
    ")"
   ]
  },
  {
   "cell_type": "code",
   "execution_count": 9,
   "id": "b3c72b93",
   "metadata": {},
   "outputs": [],
   "source": [
    "from keras.models import Sequential\n",
    "from keras.layers import Dense\n",
    "from keras.layers import Dropout, GaussianNoise, GaussianDropout,GlobalAveragePooling2D\n",
    "from keras.layers import Flatten, BatchNormalization\n",
    "from keras.layers.convolutional import Conv2D, SeparableConv2D\n",
    "from keras.constraints import maxnorm\n",
    "from keras.layers.convolutional import MaxPooling2D\n",
    "from keras.utils import np_utils\n",
    "from keras import backend as K\n",
    "from keras import layers\n",
    "from keras import regularizers, optimizers\n",
    "from keras.callbacks import Callback, ModelCheckpoint"
   ]
  },
  {
   "cell_type": "code",
   "execution_count": 10,
   "id": "987a6a04",
   "metadata": {},
   "outputs": [],
   "source": [
    "from keras.applications.inception_resnet_v2 import InceptionResNetV2 \n",
    "iresnet = InceptionResNetV2(include_top = False, weights='imagenet', input_shape=(224,224,3))\n",
    "model = Sequential()\n",
    "model.add(iresnet)\n",
    "# model.add(Conv2D(filters = 1024, kernel_size = (2,2),padding = 'same'))\n",
    "# model.add(BatchNormalization())\n",
    "model.add(layers.GlobalAveragePooling2D())\n",
    "model.add(layers.Dropout(0.5))\n",
    "model.add(layers.Dense(5, activation='sigmoid'))\n",
    "model.compile(loss='binary_crossentropy', optimizer=optimizers.adam(lr=0.0001, amsgrad=True), metrics=['accuracy'])"
   ]
  },
  {
   "cell_type": "code",
   "execution_count": 11,
   "id": "3a04f803",
   "metadata": {},
   "outputs": [
    {
     "name": "stdout",
     "output_type": "stream",
     "text": [
      "Model: \"sequential_1\"\n",
      "_________________________________________________________________\n",
      "Layer (type)                 Output Shape              Param #   \n",
      "=================================================================\n",
      "inception_resnet_v2 (Model)  (None, 5, 5, 1536)        54336736  \n",
      "_________________________________________________________________\n",
      "global_average_pooling2d_1 ( (None, 1536)              0         \n",
      "_________________________________________________________________\n",
      "dropout_1 (Dropout)          (None, 1536)              0         \n",
      "_________________________________________________________________\n",
      "dense_1 (Dense)              (None, 5)                 7685      \n",
      "=================================================================\n",
      "Total params: 54,344,421\n",
      "Trainable params: 54,283,877\n",
      "Non-trainable params: 60,544\n",
      "_________________________________________________________________\n"
     ]
    }
   ],
   "source": [
    "model.summary()"
   ]
  },
  {
   "cell_type": "code",
   "execution_count": 12,
   "id": "28bf75cf",
   "metadata": {},
   "outputs": [],
   "source": [
    "checkpoint = ModelCheckpoint(\n",
    "    'inceptres.h5', \n",
    "    monitor='val_loss', \n",
    "    verbose=1, \n",
    "    save_best_only=True, \n",
    "    save_weights_only=False,\n",
    "    mode='auto'\n",
    ")"
   ]
  },
  {
   "cell_type": "code",
   "execution_count": 14,
   "id": "161eda6b",
   "metadata": {},
   "outputs": [
    {
     "name": "stdout",
     "output_type": "stream",
     "text": [
      "Epoch 1/30\n",
      "29/29 [==============================] - 724s 25s/step - loss: 0.4798 - accuracy: 0.7910 - val_loss: 0.4310 - val_accuracy: 0.8286\n",
      "Epoch 2/30\n",
      "29/29 [==============================] - 662s 23s/step - loss: 0.3103 - accuracy: 0.8772 - val_loss: 0.3818 - val_accuracy: 0.8886\n",
      "Epoch 3/30\n",
      "29/29 [==============================] - 701s 24s/step - loss: 0.2609 - accuracy: 0.8972 - val_loss: 0.3676 - val_accuracy: 0.8743\n",
      "Epoch 4/30\n",
      "29/29 [==============================] - 798s 28s/step - loss: 0.2459 - accuracy: 0.8979 - val_loss: 0.2426 - val_accuracy: 0.8829\n",
      "Epoch 5/30\n",
      "29/29 [==============================] - 666s 23s/step - loss: 0.2492 - accuracy: 0.8993 - val_loss: 0.2396 - val_accuracy: 0.8971\n",
      "Epoch 6/30\n",
      "29/29 [==============================] - 625s 22s/step - loss: 0.2733 - accuracy: 0.8828 - val_loss: 0.2414 - val_accuracy: 0.8714\n",
      "Epoch 7/30\n",
      "29/29 [==============================] - 630s 22s/step - loss: 0.2578 - accuracy: 0.8966 - val_loss: 0.1089 - val_accuracy: 0.9229\n",
      "Epoch 8/30\n",
      "29/29 [==============================] - 621s 21s/step - loss: 0.2454 - accuracy: 0.8959 - val_loss: 0.3245 - val_accuracy: 0.8914\n",
      "Epoch 9/30\n",
      "29/29 [==============================] - 588s 20s/step - loss: 0.2500 - accuracy: 0.9007 - val_loss: 0.1338 - val_accuracy: 0.9371\n",
      "Epoch 10/30\n",
      "29/29 [==============================] - 523s 18s/step - loss: 0.2254 - accuracy: 0.9055 - val_loss: 0.0929 - val_accuracy: 0.8943\n",
      "Epoch 11/30\n",
      "29/29 [==============================] - 540s 19s/step - loss: 0.2315 - accuracy: 0.9014 - val_loss: 0.1984 - val_accuracy: 0.9226\n",
      "Epoch 12/30\n",
      "29/29 [==============================] - 531s 18s/step - loss: 0.2089 - accuracy: 0.9103 - val_loss: 0.2433 - val_accuracy: 0.9286\n",
      "Epoch 13/30\n",
      "29/29 [==============================] - 518s 18s/step - loss: 0.2097 - accuracy: 0.9069 - val_loss: 0.3127 - val_accuracy: 0.9057\n",
      "Epoch 14/30\n",
      "29/29 [==============================] - 530s 18s/step - loss: 0.2046 - accuracy: 0.9152 - val_loss: 0.1308 - val_accuracy: 0.8971\n",
      "Epoch 15/30\n",
      "29/29 [==============================] - 517s 18s/step - loss: 0.2100 - accuracy: 0.9110 - val_loss: 0.3449 - val_accuracy: 0.9000\n",
      "Epoch 16/30\n",
      "29/29 [==============================] - 514s 18s/step - loss: 0.1862 - accuracy: 0.9179 - val_loss: 0.3788 - val_accuracy: 0.8743\n",
      "Epoch 17/30\n",
      "29/29 [==============================] - 519s 18s/step - loss: 0.2182 - accuracy: 0.9097 - val_loss: 0.0847 - val_accuracy: 0.9400\n",
      "Epoch 18/30\n",
      "29/29 [==============================] - 531s 18s/step - loss: 0.2360 - accuracy: 0.9055 - val_loss: 0.0714 - val_accuracy: 0.8857\n",
      "Epoch 19/30\n",
      "29/29 [==============================] - 531s 18s/step - loss: 0.2067 - accuracy: 0.9269 - val_loss: 0.1329 - val_accuracy: 0.9114\n",
      "Epoch 20/30\n",
      "29/29 [==============================] - 530s 18s/step - loss: 0.1875 - accuracy: 0.9255 - val_loss: 0.1534 - val_accuracy: 0.9000\n",
      "Epoch 21/30\n",
      "29/29 [==============================] - 516s 18s/step - loss: 0.2296 - accuracy: 0.8993 - val_loss: 0.1770 - val_accuracy: 0.9286\n",
      "Epoch 22/30\n",
      "29/29 [==============================] - 513s 18s/step - loss: 0.1724 - accuracy: 0.9324 - val_loss: 0.3010 - val_accuracy: 0.9290\n",
      "Epoch 23/30\n",
      "29/29 [==============================] - 520s 18s/step - loss: 0.1728 - accuracy: 0.9276 - val_loss: 0.1577 - val_accuracy: 0.9143\n",
      "Epoch 24/30\n",
      "29/29 [==============================] - 530s 18s/step - loss: 0.1846 - accuracy: 0.9186 - val_loss: 0.1655 - val_accuracy: 0.9086\n",
      "Epoch 25/30\n",
      "29/29 [==============================] - 529s 18s/step - loss: 0.1903 - accuracy: 0.9172 - val_loss: 0.2338 - val_accuracy: 0.9057\n",
      "Epoch 26/30\n",
      "29/29 [==============================] - 515s 18s/step - loss: 0.1932 - accuracy: 0.9186 - val_loss: 0.5524 - val_accuracy: 0.9000\n",
      "Epoch 27/30\n",
      "29/29 [==============================] - 515s 18s/step - loss: 0.1692 - accuracy: 0.9352 - val_loss: 0.3829 - val_accuracy: 0.8629\n",
      "Epoch 28/30\n",
      "29/29 [==============================] - 515s 18s/step - loss: 0.2133 - accuracy: 0.9117 - val_loss: 0.2015 - val_accuracy: 0.9257\n",
      "Epoch 29/30\n",
      "29/29 [==============================] - 519s 18s/step - loss: 0.1954 - accuracy: 0.9214 - val_loss: 0.1422 - val_accuracy: 0.9343\n",
      "Epoch 30/30\n",
      "29/29 [==============================] - 518s 18s/step - loss: 0.1972 - accuracy: 0.9193 - val_loss: 0.2334 - val_accuracy: 0.8914\n"
     ]
    }
   ],
   "source": [
    "history =model.fit_generator(generator=train_gen,              \n",
    "                                    steps_per_epoch=len(train_gen)//BATCH_SIZE,\n",
    "                                    validation_data=test_gen,                    \n",
    "                                    validation_steps=len(test_gen)//BATCH_SIZE,\n",
    "                                    epochs=30,\n",
    "                                    \n",
    "                                    verbose=1)\n",
    "model.save('inceptionresnet.h5')"
   ]
  },
  {
   "cell_type": "code",
   "execution_count": 15,
   "id": "5c481f81",
   "metadata": {},
   "outputs": [
    {
     "name": "stdout",
     "output_type": "stream",
     "text": [
      "74/74 [==============================] - 374s 5s/step\n"
     ]
    }
   ],
   "source": [
    "y_test = model.predict_generator(\n",
    "    test_gen,\n",
    "    steps=len(test_gen),\n",
    "    verbose=1\n",
    ")"
   ]
  },
  {
   "cell_type": "code",
   "execution_count": 16,
   "id": "d366c88a",
   "metadata": {},
   "outputs": [
    {
     "name": "stdout",
     "output_type": "stream",
     "text": [
      "3/3 [==============================] - 17s 6s/step\n",
      "Loss of the model:  0.21110384166240692\n",
      "Accuracy of the model:  0.9266666173934937\n"
     ]
    }
   ],
   "source": [
    "loss, accuracy = model.evaluate_generator(test_gen, steps=3, verbose=1)\n",
    "print(\"Loss of the model: \",loss)\n",
    "print(\"Accuracy of the model: \",accuracy)"
   ]
  },
  {
   "cell_type": "code",
   "execution_count": 17,
   "id": "000e3f51",
   "metadata": {},
   "outputs": [],
   "source": [
    "from matplotlib import pyplot as plt"
   ]
  },
  {
   "cell_type": "code",
   "execution_count": 18,
   "id": "0939c631",
   "metadata": {},
   "outputs": [
    {
     "name": "stdout",
     "output_type": "stream",
     "text": [
      "dict_keys(['val_loss', 'val_accuracy', 'loss', 'accuracy'])\n"
     ]
    },
    {
     "data": {
      "image/png": "[encoded data removed]",
      "text/plain": [
       "<Figure size 432x288 with 1 Axes>"
      ]
     },
     "metadata": {
      "needs_background": "light"
     },
     "output_type": "display_data"
    }
   ],
   "source": [
    "print(model.history.history.keys())\n",
    "# summarize history for accuracy\n",
    "plt.plot(model.history.history['accuracy'])\n",
    "plt.plot(model.history.history['val_accuracy'])\n",
    "plt.title('model accuracy')\n",
    "plt.ylabel('accuracy')\n",
    "plt.xlabel('epoch')\n",
    "plt.legend(['train', 'test'], loc='upper left')\n",
    "plt.show()\n"
   ]
  },
  {
   "cell_type": "code",
   "execution_count": 19,
   "id": "77b250de",
   "metadata": {},
   "outputs": [
    {
     "data": {
      "image/png": "[encoded data removed]",
      "text/plain": [
       "<Figure size 432x288 with 1 Axes>"
      ]
     },
     "metadata": {
      "needs_background": "light"
     },
     "output_type": "display_data"
    }
   ],
   "source": [
    "# summarize history for loss\n",
    "plt.plot(history.history['loss'])\n",
    "plt.plot(history.history['val_loss'])\n",
    "plt.title('model loss')\n",
    "plt.ylabel('loss')\n",
    "plt.xlabel('epoch')\n",
    "plt.legend(['train', 'test'], loc='upper left')\n",
    "plt.show()"
   ]
  },
  {
   "cell_type": "code",
   "execution_count": null,
   "id": "153bb51d",
   "metadata": {},
   "outputs": [],
   "source": []
  }
 ],
 "metadata": {
  "kernelspec": {
   "display_name": "Python 3 (ipykernel)",
   "language": "python",
   "name": "python3"
  },
  "language_info": {
   "codemirror_mode": {
    "name": "ipython",
    "version": 3
   },
   "file_extension": ".py",
   "mimetype": "text/x-python",
   "name": "python",
   "nbconvert_exporter": "python",
   "pygments_lexer": "ipython3",
   "version": "3.8.16"
  }
 },
 "nbformat": 4,
 "nbformat_minor": 5
}
