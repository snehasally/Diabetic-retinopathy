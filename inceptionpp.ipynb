{
 "cells": [
  {
   "cell_type": "code",
   "execution_count": 2,
   "metadata": {},
   "outputs": [],
   "source": [
    "DIR = 'F:/'\n",
    "TRAIN_DF_PATH = DIR + \"train.csv\"\n",
    "TEST_DF_PATH = DIR + 'test.csv'\n",
    "TRAIN_IMG_PATH = DIR + \"train_images/\"\n",
    "TEST_IMG_PATH = DIR + 'test_images/'"
   ]
  },
  {
   "cell_type": "code",
   "execution_count": 3,
   "metadata": {},
   "outputs": [],
   "source": [
    "BASE_DIR = 'F:/'\n",
    "TRAIN_IMAGE_DIR = 'F:/train_images'\n",
    "TEST_IMAGE_DIR = 'F:/test_images'\n",
    "train_csv = 'F:/train.csv'\n",
    "test_csv = 'F:/test.csv'\n",
    "IMAGE_SIZE = 224\n",
    "BATCH_SIZE = 10"
   ]
  },
  {
   "cell_type": "code",
   "execution_count": 4,
   "metadata": {},
   "outputs": [],
   "source": [
    "import pandas as pd\n",
    "import numpy as np\n",
    "import matplotlib.pyplot as plt\n",
    "import cv2"
   ]
  },
  {
   "cell_type": "code",
   "execution_count": 5,
   "metadata": {},
   "outputs": [
    {
     "data": {
      "text/html": [
       "<div>\n",
       "<style scoped>\n",
       "    .dataframe tbody tr th:only-of-type {\n",
       "        vertical-align: middle;\n",
       "    }\n",
       "\n",
       "    .dataframe tbody tr th {\n",
       "        vertical-align: top;\n",
       "    }\n",
       "\n",
       "    .dataframe thead th {\n",
       "        text-align: right;\n",
       "    }\n",
       "</style>\n",
       "<table border=\"1\" class=\"dataframe\">\n",
       "  <thead>\n",
       "    <tr style=\"text-align: right;\">\n",
       "      <th></th>\n",
       "      <th>id_code</th>\n",
       "      <th>diagnosis</th>\n",
       "    </tr>\n",
       "  </thead>\n",
       "  <tbody>\n",
       "    <tr>\n",
       "      <th>0</th>\n",
       "      <td>000c1434d8d7</td>\n",
       "      <td>2</td>\n",
       "    </tr>\n",
       "    <tr>\n",
       "      <th>1</th>\n",
       "      <td>001639a390f0</td>\n",
       "      <td>4</td>\n",
       "    </tr>\n",
       "    <tr>\n",
       "      <th>2</th>\n",
       "      <td>0024cdab0c1e</td>\n",
       "      <td>1</td>\n",
       "    </tr>\n",
       "    <tr>\n",
       "      <th>3</th>\n",
       "      <td>002c21358ce6</td>\n",
       "      <td>0</td>\n",
       "    </tr>\n",
       "    <tr>\n",
       "      <th>4</th>\n",
       "      <td>005b95c28852</td>\n",
       "      <td>0</td>\n",
       "    </tr>\n",
       "  </tbody>\n",
       "</table>\n",
       "</div>"
      ],
      "text/plain": [
       "        id_code  diagnosis\n",
       "0  000c1434d8d7          2\n",
       "1  001639a390f0          4\n",
       "2  0024cdab0c1e          1\n",
       "3  002c21358ce6          0\n",
       "4  005b95c28852          0"
      ]
     },
     "execution_count": 5,
     "metadata": {},
     "output_type": "execute_result"
    }
   ],
   "source": [
    "train_df = pd.read_csv(train_csv)\n",
    "train_df.head(5)"
   ]
  },
  {
   "cell_type": "code",
   "execution_count": 6,
   "metadata": {},
   "outputs": [
    {
     "data": {
      "text/html": [
       "<div>\n",
       "<style scoped>\n",
       "    .dataframe tbody tr th:only-of-type {\n",
       "        vertical-align: middle;\n",
       "    }\n",
       "\n",
       "    .dataframe tbody tr th {\n",
       "        vertical-align: top;\n",
       "    }\n",
       "\n",
       "    .dataframe thead th {\n",
       "        text-align: right;\n",
       "    }\n",
       "</style>\n",
       "<table border=\"1\" class=\"dataframe\">\n",
       "  <thead>\n",
       "    <tr style=\"text-align: right;\">\n",
       "      <th></th>\n",
       "      <th>id_code</th>\n",
       "    </tr>\n",
       "  </thead>\n",
       "  <tbody>\n",
       "    <tr>\n",
       "      <th>0</th>\n",
       "      <td>0005cfc8afb6</td>\n",
       "    </tr>\n",
       "    <tr>\n",
       "      <th>1</th>\n",
       "      <td>003f0afdcd15</td>\n",
       "    </tr>\n",
       "    <tr>\n",
       "      <th>2</th>\n",
       "      <td>006efc72b638</td>\n",
       "    </tr>\n",
       "    <tr>\n",
       "      <th>3</th>\n",
       "      <td>00836aaacf06</td>\n",
       "    </tr>\n",
       "    <tr>\n",
       "      <th>4</th>\n",
       "      <td>009245722fa4</td>\n",
       "    </tr>\n",
       "  </tbody>\n",
       "</table>\n",
       "</div>"
      ],
      "text/plain": [
       "        id_code\n",
       "0  0005cfc8afb6\n",
       "1  003f0afdcd15\n",
       "2  006efc72b638\n",
       "3  00836aaacf06\n",
       "4  009245722fa4"
      ]
     },
     "execution_count": 6,
     "metadata": {},
     "output_type": "execute_result"
    }
   ],
   "source": [
    "test_df = pd.read_csv(test_csv)\n",
    "test_df.head()"
   ]
  },
  {
   "cell_type": "code",
   "execution_count": 7,
   "metadata": {},
   "outputs": [],
   "source": [
    "train_df['diagnosis'] = train_df['diagnosis'].astype('str')\n",
    "train_df['id_code'] = train_df['id_code'].astype(str)+'.png'\n",
    "test_df['id_code'] = test_df['id_code'].astype(str)+'.png'"
   ]
  },
  {
   "cell_type": "code",
   "execution_count": 8,
   "metadata": {},
   "outputs": [],
   "source": [
    "def crop_image_from_gray(img, tol=7):\n",
    "   \n",
    "    if img.ndim == 2:\n",
    "        mask = img > tol\n",
    "        return img[np.ix_(mask.any(1),mask.any(0))]\n",
    "   \n",
    "    elif img.ndim == 3:\n",
    "        gray_img = cv2.cvtColor(img, cv2.COLOR_RGB2GRAY)\n",
    "        mask = gray_img > tol\n",
    "       \n",
    "        check_shape = img[:,:,0][np.ix_(mask.any(1),mask.any(0))].shape[0]\n",
    "        if (check_shape == 0):\n",
    "            return img\n",
    "        else:\n",
    "            img1=img[:,:,0][np.ix_(mask.any(1),mask.any(0))]\n",
    "            img2=img[:,:,1][np.ix_(mask.any(1),mask.any(0))]\n",
    "            img3=img[:,:,2][np.ix_(mask.any(1),mask.any(0))]\n",
    "            img = np.stack([img1,img2,img3],axis=-1)\n",
    "        return img"
   ]
  },
  {
   "cell_type": "code",
   "execution_count": 9,
   "metadata": {},
   "outputs": [],
   "source": [
    "def preprocess_image(image, sigmaX=10):\n",
    "   \n",
    "    image = cv2.cvtColor(image, cv2.COLOR_BGR2RGB)\n",
    "    image = crop_image_from_gray(image)\n",
    "    image = cv2.resize(image, (224, 224))\n",
    "    image = cv2.addWeighted (image,4, cv2.GaussianBlur(image, (0,0) ,sigmaX), -4, 128)\n",
    "    return image"
   ]
  },
  {
   "cell_type": "code",
   "execution_count": 10,
   "metadata": {},
   "outputs": [],
   "source": [
    "from keras.preprocessing.image import ImageDataGenerator\n",
    "datagen = ImageDataGenerator(\n",
    "    rescale=1./255,\n",
    "    horizontal_flip=True,\n",
    "    vertical_flip=True,\n",
    "    zoom_range=0.2,\n",
    "    validation_split=0.2,\n",
    "    preprocessing_function = preprocess_image\n",
    ")\n",
    "test_datagen = ImageDataGenerator(rescale=1./255)"
   ]
  },
  {
   "cell_type": "code",
   "execution_count": 13,
   "metadata": {},
   "outputs": [
    {
     "name": "stdout",
     "output_type": "stream",
     "text": [
      "Found 2930 validated image filenames belonging to 5 classes.\n"
     ]
    }
   ],
   "source": [
    "train_gen = datagen.flow_from_dataframe(\n",
    "    dataframe = train_df,\n",
    "    class_mode = 'categorical',\n",
    "    x_col = 'id_code',\n",
    "    y_col = 'diagnosis',\n",
    "    target_size = (IMAGE_SIZE,IMAGE_SIZE),\n",
    "    subset = 'training',\n",
    "    directory = TRAIN_IMAGE_DIR,\n",
    "    batch_size = BATCH_SIZE,\n",
    "    shuffle = False\n",
    ")"
   ]
  },
  {
   "cell_type": "code",
   "execution_count": 14,
   "metadata": {},
   "outputs": [
    {
     "name": "stdout",
     "output_type": "stream",
     "text": [
      "Found 732 validated image filenames belonging to 5 classes.\n"
     ]
    }
   ],
   "source": [
    "val_gen = datagen.flow_from_dataframe(\n",
    "    dataframe = train_df,\n",
    "    class_mode = 'categorical',\n",
    "    x_col = 'id_code',\n",
    "    y_col = 'diagnosis',\n",
    "    target_size = (IMAGE_SIZE,IMAGE_SIZE),\n",
    "    subset = 'validation',\n",
    "    directory = TRAIN_IMAGE_DIR,\n",
    "    batch_size = BATCH_SIZE,\n",
    "    shuffle = False\n",
    ")"
   ]
  },
  {
   "cell_type": "code",
   "execution_count": 15,
   "metadata": {},
   "outputs": [
    {
     "name": "stdout",
     "output_type": "stream",
     "text": [
      "Found 1928 validated image filenames.\n"
     ]
    }
   ],
   "source": [
    "test_gen = test_datagen.flow_from_dataframe(\n",
    "    dataframe = test_df,\n",
    "    class_mode = None,\n",
    "    x_col = 'id_code',\n",
    "    target_size = (IMAGE_SIZE,IMAGE_SIZE),\n",
    "    directory = TEST_IMAGE_DIR,\n",
    "    batch_size = BATCH_SIZE,\n",
    "    shuffle = False\n",
    ")"
   ]
  },
  {
   "cell_type": "code",
   "execution_count": 16,
   "metadata": {},
   "outputs": [
    {
     "name": "stdout",
     "output_type": "stream",
     "text": [
      "[[0. 0. 1. 0. 0.]\n",
      " [0. 0. 0. 0. 1.]\n",
      " [0. 1. 0. 0. 0.]\n",
      " ...\n",
      " [0. 0. 1. 0. 0.]\n",
      " [1. 0. 0. 0. 0.]\n",
      " [0. 0. 1. 0. 0.]]\n"
     ]
    }
   ],
   "source": [
    "from sklearn.preprocessing import OneHotEncoder\n",
    "onehot_encoder = OneHotEncoder(sparse=False)\n",
    "encoded_diagnosis = onehot_encoder.fit_transform(train_df[['diagnosis']])\n",
    "print(encoded_diagnosis)"
   ]
  },
  {
   "cell_type": "code",
   "execution_count": 17,
   "metadata": {},
   "outputs": [],
   "source": [
    "from keras.models import Sequential\n",
    "from keras.layers import Dense\n",
    "from keras import layers\n",
    "from keras.layers import Dropout, GaussianNoise, GaussianDropout,GlobalAveragePooling2D\n",
    "from keras.layers import Flatten, BatchNormalization\n",
    "from keras.layers.convolutional import Conv2D, SeparableConv2D\n",
    "from keras.constraints import maxnorm\n",
    "from keras.layers.convolutional import MaxPooling2D\n",
    "from keras.utils import np_utils\n",
    "from keras import backend as K\n",
    "from keras import regularizers, optimizers\n",
    "from keras.models import load_model"
   ]
  },
  {
   "cell_type": "code",
   "execution_count": 18,
   "metadata": {},
   "outputs": [
    {
     "name": "stdout",
     "output_type": "stream",
     "text": [
      "Model: \"sequential_1\"\n",
      "_________________________________________________________________\n",
      "Layer (type)                 Output Shape              Param #   \n",
      "=================================================================\n",
      "inception_v3 (Model)         (None, 5, 5, 2048)        21802784  \n",
      "_________________________________________________________________\n",
      "global_average_pooling2d_1 ( (None, 2048)              0         \n",
      "_________________________________________________________________\n",
      "dropout_1 (Dropout)          (None, 2048)              0         \n",
      "_________________________________________________________________\n",
      "dense_1 (Dense)              (None, 5)                 10245     \n",
      "=================================================================\n",
      "Total params: 21,813,029\n",
      "Trainable params: 21,778,597\n",
      "Non-trainable params: 34,432\n",
      "_________________________________________________________________\n"
     ]
    }
   ],
   "source": [
    "from keras.applications.inception_v3 import InceptionV3\n",
    "inet = InceptionV3(include_top = False, weights='imagenet', input_shape=(224,224,3))\n",
    "model = Sequential()\n",
    "model.add(inet)\n",
    "model.add(layers.GlobalAveragePooling2D())\n",
    "model.add(layers.Dropout(0.5))\n",
    "model.add(layers.Dense(5, activation='sigmoid'))\n",
    "model.compile(loss='binary_crossentropy', optimizer=optimizers.adam(lr=0.0001, amsgrad=True), metrics=['accuracy'])\n",
    "\n",
    "model.summary()\n"
   ]
  },
  {
   "cell_type": "code",
   "execution_count": 21,
   "metadata": {},
   "outputs": [],
   "source": [
    "from keras.callbacks import EarlyStopping, ModelCheckpoint\n",
    "early_stop= EarlyStopping(monitor='val_loss', mode ='min', verbose = 1, patience = 20)\n",
    "model_checkpoint = ModelCheckpoint('Incppmodel.h5', monitor='val_loss', save_best_only = True, mode ='min', verbose = 1)"
   ]
  },
  {
   "cell_type": "code",
   "execution_count": 25,
   "metadata": {},
   "outputs": [
    {
     "name": "stdout",
     "output_type": "stream",
     "text": [
      "Epoch 1/50\n",
      "29/29 [==============================] - 323s 11s/step - loss: 0.4124 - accuracy: 0.8393 - val_loss: 0.2316 - val_accuracy: 0.8371\n",
      "Epoch 2/50\n",
      "29/29 [==============================] - 245s 8s/step - loss: 0.3278 - accuracy: 0.8669 - val_loss: 0.3227 - val_accuracy: 0.8771\n",
      "Epoch 3/50\n",
      "29/29 [==============================] - 248s 9s/step - loss: 0.2711 - accuracy: 0.8917 - val_loss: 0.3812 - val_accuracy: 0.8771\n",
      "Epoch 4/50\n",
      "29/29 [==============================] - 246s 8s/step - loss: 0.2632 - accuracy: 0.8952 - val_loss: 0.2748 - val_accuracy: 0.8971\n",
      "Epoch 5/50\n",
      "29/29 [==============================] - 250s 9s/step - loss: 0.2512 - accuracy: 0.8945 - val_loss: 0.3675 - val_accuracy: 0.9171\n",
      "Epoch 6/50\n",
      "29/29 [==============================] - 251s 9s/step - loss: 0.2592 - accuracy: 0.8883 - val_loss: 0.1375 - val_accuracy: 0.8914\n",
      "Epoch 7/50\n",
      "29/29 [==============================] - 251s 9s/step - loss: 0.2698 - accuracy: 0.8945 - val_loss: 0.2785 - val_accuracy: 0.9086\n",
      "Epoch 8/50\n",
      "29/29 [==============================] - 245s 8s/step - loss: 0.2402 - accuracy: 0.8952 - val_loss: 0.2294 - val_accuracy: 0.8943\n",
      "Epoch 9/50\n",
      "29/29 [==============================] - 251s 9s/step - loss: 0.2534 - accuracy: 0.8945 - val_loss: 0.3081 - val_accuracy: 0.8857\n",
      "Epoch 10/50\n",
      "29/29 [==============================] - 245s 8s/step - loss: 0.2411 - accuracy: 0.8986 - val_loss: 0.2385 - val_accuracy: 0.9057\n",
      "Epoch 11/50\n",
      "29/29 [==============================] - 253s 9s/step - loss: 0.2110 - accuracy: 0.9062 - val_loss: 0.1456 - val_accuracy: 0.9129\n",
      "Epoch 12/50\n",
      "29/29 [==============================] - 250s 9s/step - loss: 0.2092 - accuracy: 0.9076 - val_loss: 0.2225 - val_accuracy: 0.8943\n",
      "Epoch 13/50\n",
      "29/29 [==============================] - 244s 8s/step - loss: 0.2153 - accuracy: 0.9055 - val_loss: 0.1859 - val_accuracy: 0.9286\n",
      "Epoch 14/50\n",
      "29/29 [==============================] - 243s 8s/step - loss: 0.2241 - accuracy: 0.9034 - val_loss: 0.3797 - val_accuracy: 0.8943\n",
      "Epoch 15/50\n",
      "29/29 [==============================] - 247s 9s/step - loss: 0.2308 - accuracy: 0.9055 - val_loss: 0.2826 - val_accuracy: 0.8886\n",
      "Epoch 16/50\n",
      "29/29 [==============================] - 246s 8s/step - loss: 0.2619 - accuracy: 0.8841 - val_loss: 0.3129 - val_accuracy: 0.8943\n",
      "Epoch 17/50\n",
      "29/29 [==============================] - 248s 9s/step - loss: 0.2223 - accuracy: 0.9076 - val_loss: 0.1078 - val_accuracy: 0.9286\n",
      "Epoch 18/50\n",
      "29/29 [==============================] - 245s 8s/step - loss: 0.2321 - accuracy: 0.9000 - val_loss: 0.2135 - val_accuracy: 0.9000\n",
      "Epoch 19/50\n",
      "29/29 [==============================] - 249s 9s/step - loss: 0.2069 - accuracy: 0.9152 - val_loss: 0.3351 - val_accuracy: 0.8943\n",
      "Epoch 20/50\n",
      "29/29 [==============================] - 276s 10s/step - loss: 0.1834 - accuracy: 0.9234 - val_loss: 0.1702 - val_accuracy: 0.9114\n",
      "Epoch 21/50\n",
      "29/29 [==============================] - 286s 10s/step - loss: 0.2113 - accuracy: 0.9000 - val_loss: 0.3939 - val_accuracy: 0.8857\n",
      "Epoch 22/50\n",
      "29/29 [==============================] - 251s 9s/step - loss: 0.1898 - accuracy: 0.9172 - val_loss: 0.3048 - val_accuracy: 0.8968\n",
      "Epoch 23/50\n",
      "29/29 [==============================] - 253s 9s/step - loss: 0.1846 - accuracy: 0.9200 - val_loss: 0.2726 - val_accuracy: 0.9114\n",
      "Epoch 24/50\n",
      "29/29 [==============================] - 253s 9s/step - loss: 0.1854 - accuracy: 0.9193 - val_loss: 0.1903 - val_accuracy: 0.9229\n",
      "Epoch 25/50\n",
      "29/29 [==============================] - 257s 9s/step - loss: 0.2064 - accuracy: 0.9103 - val_loss: 0.2643 - val_accuracy: 0.8771\n",
      "Epoch 26/50\n",
      "29/29 [==============================] - 248s 9s/step - loss: 0.1752 - accuracy: 0.9283 - val_loss: 0.1812 - val_accuracy: 0.9057\n",
      "Epoch 27/50\n",
      "29/29 [==============================] - 249s 9s/step - loss: 0.2164 - accuracy: 0.9103 - val_loss: 0.2365 - val_accuracy: 0.8857\n",
      "Epoch 28/50\n",
      "29/29 [==============================] - 259s 9s/step - loss: 0.2239 - accuracy: 0.9097 - val_loss: 0.3382 - val_accuracy: 0.8914\n",
      "Epoch 29/50\n",
      "29/29 [==============================] - 250s 9s/step - loss: 0.1709 - accuracy: 0.9269 - val_loss: 0.1262 - val_accuracy: 0.9114\n",
      "Epoch 30/50\n",
      "29/29 [==============================] - 244s 8s/step - loss: 0.2018 - accuracy: 0.9200 - val_loss: 0.2702 - val_accuracy: 0.8800\n",
      "Epoch 31/50\n",
      "29/29 [==============================] - 242s 8s/step - loss: 0.1803 - accuracy: 0.9248 - val_loss: 0.1864 - val_accuracy: 0.9229\n",
      "Epoch 32/50\n",
      "29/29 [==============================] - 240s 8s/step - loss: 0.1461 - accuracy: 0.9476 - val_loss: 0.1803 - val_accuracy: 0.9194\n",
      "Epoch 33/50\n",
      "29/29 [==============================] - 268s 9s/step - loss: 0.1601 - accuracy: 0.9297 - val_loss: 0.3748 - val_accuracy: 0.8943\n",
      "Epoch 34/50\n",
      "29/29 [==============================] - 246s 8s/step - loss: 0.1692 - accuracy: 0.9331 - val_loss: 0.1520 - val_accuracy: 0.9314\n",
      "Epoch 35/50\n",
      "29/29 [==============================] - 247s 9s/step - loss: 0.1417 - accuracy: 0.9441 - val_loss: 0.1272 - val_accuracy: 0.9029\n",
      "Epoch 36/50\n",
      "29/29 [==============================] - 243s 8s/step - loss: 0.1727 - accuracy: 0.9241 - val_loss: 0.4036 - val_accuracy: 0.9114\n",
      "Epoch 37/50\n",
      "29/29 [==============================] - 243s 8s/step - loss: 0.1830 - accuracy: 0.9262 - val_loss: 0.3323 - val_accuracy: 0.9286\n",
      "Epoch 00037: early stopping\n"
     ]
    }
   ],
   "source": [
    "model.fit_generator(generator=train_gen,              \n",
    "                                    steps_per_epoch=len(train_gen)//BATCH_SIZE,\n",
    "                                    validation_data=val_gen,                    \n",
    "                                    validation_steps=len(val_gen)//BATCH_SIZE,\n",
    "                                    epochs=50,\n",
    "                                    callbacks = [early_stop],\n",
    "                                    verbose=1)\n",
    "\n",
    "model.save('Inceptionpp.h5')"
   ]
  },
  {
   "cell_type": "code",
   "execution_count": 26,
   "metadata": {},
   "outputs": [
    {
     "name": "stdout",
     "output_type": "stream",
     "text": [
      "193/193 [==============================] - 432s 2s/step\n"
     ]
    }
   ],
   "source": [
    "y_test = model.predict_generator(\n",
    "    test_gen,\n",
    "    steps=len(test_gen),\n",
    "    verbose=1\n",
    ")"
   ]
  },
  {
   "cell_type": "code",
   "execution_count": 27,
   "metadata": {},
   "outputs": [
    {
     "name": "stdout",
     "output_type": "stream",
     "text": [
      "3/3 [==============================] - 13s 4s/step\n",
      "Loss of the model:  0.09011518955230713\n",
      "Accuracy of the model:  0.9466666579246521\n"
     ]
    }
   ],
   "source": [
    "loss, accuracy = model.evaluate_generator(val_gen, steps=3, verbose=1)\n",
    "print(\"Loss of the model: \",loss)\n",
    "print(\"Accuracy of the model: \",accuracy)\n"
   ]
  },
  {
   "cell_type": "code",
   "execution_count": 28,
   "metadata": {},
   "outputs": [],
   "source": [
    "accuracy, val_accuracy = model.history.history['accuracy'], model.history.history['val_accuracy']\n",
    "loss, val_loss = model.history.history['loss'], model.history.history['val_loss']\n",
    "epochs = range(len(accuracy))\n",
    "import matplotlib.pyplot as pl"
   ]
  },
  {
   "cell_type": "code",
   "execution_count": 29,
   "metadata": {},
   "outputs": [
    {
     "data": {
      "image/png": "[encoded data removed]",
      "text/plain": [
       "<Figure size 432x288 with 1 Axes>"
      ]
     },
     "metadata": {
      "needs_background": "light"
     },
     "output_type": "display_data"
    }
   ],
   "source": [
    "plt.plot(epochs, accuracy, label='Training accuracy')\n",
    "plt.plot(epochs, val_accuracy, label='Validation accuracy')\n",
    "plt.legend()\n",
    "plt.title('Accuracy Curve')\n",
    "plt.xlabel('Epochs')\n",
    "plt.ylabel('Accuracy')\n",
    "plt.show()"
   ]
  },
  {
   "cell_type": "code",
   "execution_count": 30,
   "metadata": {},
   "outputs": [
    {
     "data": {
      "image/png": "[encoded data removed]",
      "text/plain": [
       "<Figure size 432x288 with 1 Axes>"
      ]
     },
     "metadata": {
      "needs_background": "light"
     },
     "output_type": "display_data"
    }
   ],
   "source": [
    "plt.plot(epochs, loss, label='Training loss')\n",
    "plt.plot(epochs, val_loss, label='Validation loss')\n",
    "plt.legend()\n",
    "plt.title('Loss Curve')\n",
    "plt.xlabel('Epochs')\n",
    "plt.ylabel('Loss')\n",
    "plt.show()\n"
   ]
  },
  {
   "cell_type": "code",
   "execution_count": null,
   "metadata": {},
   "outputs": [],
   "source": []
  }
 ],
 "metadata": {
  "kernelspec": {
   "display_name": "Python 3",
   "language": "python",
   "name": "python3"
  },
  "language_info": {
   "codemirror_mode": {
    "name": "ipython",
    "version": 3
   },
   "file_extension": ".py",
   "mimetype": "text/x-python",
   "name": "python",
   "nbconvert_exporter": "python",
   "pygments_lexer": "ipython3",
   "version": "3.8.5"
  }
 },
 "nbformat": 4,
 "nbformat_minor": 5
}
